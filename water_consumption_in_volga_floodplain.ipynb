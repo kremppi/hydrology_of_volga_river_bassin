{
 "cells": [
  {
   "cell_type": "code",
   "execution_count": 1,
   "metadata": {},
   "outputs": [
    {
     "name": "stderr",
     "output_type": "stream",
     "text": [
      "C:\\Users\\riznet\\Anaconda3\\lib\\site-packages\\statsmodels\\tools\\_testing.py:19: FutureWarning: pandas.util.testing is deprecated. Use the functions in the public API at pandas.testing instead.\n",
      "  import pandas.util.testing as tm\n"
     ]
    }
   ],
   "source": [
    "import pandas as pd\n",
    "import numpy as np\n",
    "import matplotlib.pyplot as plt\n",
    "import seaborn as sns\n",
    "import datetime as dt\n",
    "import calendar\n",
    "import altair as alt\n",
    "%matplotlib inline"
   ]
  },
  {
   "cell_type": "code",
   "execution_count": 2,
   "metadata": {},
   "outputs": [],
   "source": [
    "dat2= pd.read_csv('water_consum_floodplain.csv')"
   ]
  },
  {
   "cell_type": "code",
   "execution_count": 11,
   "metadata": {},
   "outputs": [],
   "source": [
    "sns.set(style='ticks', context='talk')\n",
    "plt.style.use('dark_background')"
   ]
  },
  {
   "cell_type": "code",
   "execution_count": 2,
   "metadata": {},
   "outputs": [],
   "source": [
    "dataset = pd.read_csv('C:\\VOLGA.csv', encoding = 'utf-8', sep=';')\n",
    "dataset = dataset.drop('Total', axis=1)\n",
    "dataset.replace(0, np.nan, inplace=True)\n",
    "dataset.interpolate(inplace=True)\n",
    "dat1 = pd.DataFrame\n",
    "dat1 = dataset.set_index(dataset.pop('Year').astype(str)).stack().reset_index(name='Volume')\n",
    "dat1['Year'] = dat1.pop('level_1')+ '-' + dat1['Year']\n",
    "dat1.set_index('Year', inplace=True)\n",
    "dat2 = pd.DataFrame(dat1.loc['Apr-2013': 'Dec-2016', 'Volume'])"
   ]
  },
  {
   "cell_type": "code",
   "execution_count": 131,
   "metadata": {},
   "outputs": [],
   "source": [
    "dat2['wat_balance'] = dat2.income - dat2.discharge"
   ]
  },
  {
   "cell_type": "code",
   "execution_count": 139,
   "metadata": {},
   "outputs": [
    {
     "data": {
      "text/html": [
       "<div>\n",
       "<style scoped>\n",
       "    .dataframe tbody tr th:only-of-type {\n",
       "        vertical-align: middle;\n",
       "    }\n",
       "\n",
       "    .dataframe tbody tr th {\n",
       "        vertical-align: top;\n",
       "    }\n",
       "\n",
       "    .dataframe thead th {\n",
       "        text-align: right;\n",
       "    }\n",
       "</style>\n",
       "<table border=\"1\" class=\"dataframe\">\n",
       "  <thead>\n",
       "    <tr style=\"text-align: right;\">\n",
       "      <th></th>\n",
       "      <th>discharge</th>\n",
       "      <th>income</th>\n",
       "      <th>wat_balance</th>\n",
       "    </tr>\n",
       "    <tr>\n",
       "      <th>Year</th>\n",
       "      <th></th>\n",
       "      <th></th>\n",
       "      <th></th>\n",
       "    </tr>\n",
       "  </thead>\n",
       "  <tbody>\n",
       "    <tr>\n",
       "      <th>Apr-2013</th>\n",
       "      <td>31.72</td>\n",
       "      <td>27.99</td>\n",
       "      <td>-3.73</td>\n",
       "    </tr>\n",
       "    <tr>\n",
       "      <th>May-2013</th>\n",
       "      <td>62.15</td>\n",
       "      <td>52.76</td>\n",
       "      <td>-9.39</td>\n",
       "    </tr>\n",
       "    <tr>\n",
       "      <th>Jun-2013</th>\n",
       "      <td>37.59</td>\n",
       "      <td>36.03</td>\n",
       "      <td>-1.56</td>\n",
       "    </tr>\n",
       "    <tr>\n",
       "      <th>Jul-2013</th>\n",
       "      <td>17.82</td>\n",
       "      <td>16.15</td>\n",
       "      <td>-1.67</td>\n",
       "    </tr>\n",
       "    <tr>\n",
       "      <th>Aug-2013</th>\n",
       "      <td>16.05</td>\n",
       "      <td>13.34</td>\n",
       "      <td>-2.71</td>\n",
       "    </tr>\n",
       "    <tr>\n",
       "      <th>Sep-2013</th>\n",
       "      <td>14.53</td>\n",
       "      <td>12.62</td>\n",
       "      <td>-1.91</td>\n",
       "    </tr>\n",
       "    <tr>\n",
       "      <th>Oct-2013</th>\n",
       "      <td>15.81</td>\n",
       "      <td>13.18</td>\n",
       "      <td>-2.63</td>\n",
       "    </tr>\n",
       "    <tr>\n",
       "      <th>Nov-2013</th>\n",
       "      <td>18.30</td>\n",
       "      <td>14.41</td>\n",
       "      <td>-3.89</td>\n",
       "    </tr>\n",
       "    <tr>\n",
       "      <th>Dec-2013</th>\n",
       "      <td>21.60</td>\n",
       "      <td>17.20</td>\n",
       "      <td>-4.40</td>\n",
       "    </tr>\n",
       "    <tr>\n",
       "      <th>Jan-2014</th>\n",
       "      <td>21.28</td>\n",
       "      <td>16.45</td>\n",
       "      <td>-4.83</td>\n",
       "    </tr>\n",
       "    <tr>\n",
       "      <th>Feb-2014</th>\n",
       "      <td>19.39</td>\n",
       "      <td>15.92</td>\n",
       "      <td>-3.47</td>\n",
       "    </tr>\n",
       "    <tr>\n",
       "      <th>Mar-2014</th>\n",
       "      <td>22.23</td>\n",
       "      <td>21.48</td>\n",
       "      <td>-0.75</td>\n",
       "    </tr>\n",
       "    <tr>\n",
       "      <th>Apr-2014</th>\n",
       "      <td>27.63</td>\n",
       "      <td>18.69</td>\n",
       "      <td>-8.94</td>\n",
       "    </tr>\n",
       "    <tr>\n",
       "      <th>May-2014</th>\n",
       "      <td>53.92</td>\n",
       "      <td>42.85</td>\n",
       "      <td>-11.07</td>\n",
       "    </tr>\n",
       "    <tr>\n",
       "      <th>Jun-2014</th>\n",
       "      <td>18.40</td>\n",
       "      <td>18.04</td>\n",
       "      <td>-0.36</td>\n",
       "    </tr>\n",
       "    <tr>\n",
       "      <th>Jul-2014</th>\n",
       "      <td>16.27</td>\n",
       "      <td>13.74</td>\n",
       "      <td>-2.53</td>\n",
       "    </tr>\n",
       "    <tr>\n",
       "      <th>Aug-2014</th>\n",
       "      <td>15.62</td>\n",
       "      <td>12.72</td>\n",
       "      <td>-2.90</td>\n",
       "    </tr>\n",
       "    <tr>\n",
       "      <th>Sep-2014</th>\n",
       "      <td>18.58</td>\n",
       "      <td>14.02</td>\n",
       "      <td>-4.56</td>\n",
       "    </tr>\n",
       "    <tr>\n",
       "      <th>Oct-2014</th>\n",
       "      <td>15.33</td>\n",
       "      <td>13.28</td>\n",
       "      <td>-2.05</td>\n",
       "    </tr>\n",
       "    <tr>\n",
       "      <th>Nov-2014</th>\n",
       "      <td>14.48</td>\n",
       "      <td>12.03</td>\n",
       "      <td>-2.45</td>\n",
       "    </tr>\n",
       "    <tr>\n",
       "      <th>Dec-2014</th>\n",
       "      <td>15.70</td>\n",
       "      <td>13.31</td>\n",
       "      <td>-2.39</td>\n",
       "    </tr>\n",
       "    <tr>\n",
       "      <th>Jan-2015</th>\n",
       "      <td>15.81</td>\n",
       "      <td>12.56</td>\n",
       "      <td>-3.25</td>\n",
       "    </tr>\n",
       "    <tr>\n",
       "      <th>Feb-2015</th>\n",
       "      <td>13.22</td>\n",
       "      <td>10.93</td>\n",
       "      <td>-2.29</td>\n",
       "    </tr>\n",
       "    <tr>\n",
       "      <th>Mar-2015</th>\n",
       "      <td>15.22</td>\n",
       "      <td>13.10</td>\n",
       "      <td>-2.12</td>\n",
       "    </tr>\n",
       "    <tr>\n",
       "      <th>Apr-2015</th>\n",
       "      <td>14.57</td>\n",
       "      <td>11.90</td>\n",
       "      <td>-2.67</td>\n",
       "    </tr>\n",
       "    <tr>\n",
       "      <th>May-2015</th>\n",
       "      <td>41.44</td>\n",
       "      <td>29.73</td>\n",
       "      <td>-11.71</td>\n",
       "    </tr>\n",
       "    <tr>\n",
       "      <th>Jun-2015</th>\n",
       "      <td>19.68</td>\n",
       "      <td>18.87</td>\n",
       "      <td>-0.81</td>\n",
       "    </tr>\n",
       "    <tr>\n",
       "      <th>Jul-2015</th>\n",
       "      <td>18.02</td>\n",
       "      <td>13.90</td>\n",
       "      <td>-4.12</td>\n",
       "    </tr>\n",
       "    <tr>\n",
       "      <th>Aug-2015</th>\n",
       "      <td>18.24</td>\n",
       "      <td>14.17</td>\n",
       "      <td>-4.07</td>\n",
       "    </tr>\n",
       "    <tr>\n",
       "      <th>Sep-2015</th>\n",
       "      <td>18.58</td>\n",
       "      <td>14.83</td>\n",
       "      <td>-3.75</td>\n",
       "    </tr>\n",
       "    <tr>\n",
       "      <th>Oct-2015</th>\n",
       "      <td>17.50</td>\n",
       "      <td>13.79</td>\n",
       "      <td>-3.71</td>\n",
       "    </tr>\n",
       "    <tr>\n",
       "      <th>Nov-2015</th>\n",
       "      <td>16.77</td>\n",
       "      <td>13.09</td>\n",
       "      <td>-3.68</td>\n",
       "    </tr>\n",
       "    <tr>\n",
       "      <th>Dec-2015</th>\n",
       "      <td>20.71</td>\n",
       "      <td>15.21</td>\n",
       "      <td>-5.50</td>\n",
       "    </tr>\n",
       "    <tr>\n",
       "      <th>Jan-2016</th>\n",
       "      <td>19.99</td>\n",
       "      <td>16.07</td>\n",
       "      <td>-3.92</td>\n",
       "    </tr>\n",
       "    <tr>\n",
       "      <th>Feb-2016</th>\n",
       "      <td>18.11</td>\n",
       "      <td>16.36</td>\n",
       "      <td>-1.75</td>\n",
       "    </tr>\n",
       "    <tr>\n",
       "      <th>Mar-2016</th>\n",
       "      <td>21.60</td>\n",
       "      <td>16.50</td>\n",
       "      <td>-5.10</td>\n",
       "    </tr>\n",
       "    <tr>\n",
       "      <th>Apr-2016</th>\n",
       "      <td>43.15</td>\n",
       "      <td>26.44</td>\n",
       "      <td>-16.71</td>\n",
       "    </tr>\n",
       "    <tr>\n",
       "      <th>May-2016</th>\n",
       "      <td>75.17</td>\n",
       "      <td>64.28</td>\n",
       "      <td>-10.89</td>\n",
       "    </tr>\n",
       "    <tr>\n",
       "      <th>Jun-2016</th>\n",
       "      <td>26.69</td>\n",
       "      <td>34.73</td>\n",
       "      <td>8.04</td>\n",
       "    </tr>\n",
       "    <tr>\n",
       "      <th>Jul-2016</th>\n",
       "      <td>17.20</td>\n",
       "      <td>16.34</td>\n",
       "      <td>-0.86</td>\n",
       "    </tr>\n",
       "    <tr>\n",
       "      <th>Aug-2016</th>\n",
       "      <td>15.77</td>\n",
       "      <td>13.95</td>\n",
       "      <td>-1.82</td>\n",
       "    </tr>\n",
       "    <tr>\n",
       "      <th>Sep-2016</th>\n",
       "      <td>14.84</td>\n",
       "      <td>12.78</td>\n",
       "      <td>-2.06</td>\n",
       "    </tr>\n",
       "    <tr>\n",
       "      <th>Oct-2016</th>\n",
       "      <td>15.00</td>\n",
       "      <td>13.26</td>\n",
       "      <td>-1.74</td>\n",
       "    </tr>\n",
       "    <tr>\n",
       "      <th>Nov-2016</th>\n",
       "      <td>16.88</td>\n",
       "      <td>14.23</td>\n",
       "      <td>-2.65</td>\n",
       "    </tr>\n",
       "    <tr>\n",
       "      <th>Dec-2016</th>\n",
       "      <td>18.11</td>\n",
       "      <td>16.47</td>\n",
       "      <td>-1.64</td>\n",
       "    </tr>\n",
       "  </tbody>\n",
       "</table>\n",
       "</div>"
      ],
      "text/plain": [
       "          discharge  income  wat_balance\n",
       "Year                                    \n",
       "Apr-2013      31.72   27.99        -3.73\n",
       "May-2013      62.15   52.76        -9.39\n",
       "Jun-2013      37.59   36.03        -1.56\n",
       "Jul-2013      17.82   16.15        -1.67\n",
       "Aug-2013      16.05   13.34        -2.71\n",
       "Sep-2013      14.53   12.62        -1.91\n",
       "Oct-2013      15.81   13.18        -2.63\n",
       "Nov-2013      18.30   14.41        -3.89\n",
       "Dec-2013      21.60   17.20        -4.40\n",
       "Jan-2014      21.28   16.45        -4.83\n",
       "Feb-2014      19.39   15.92        -3.47\n",
       "Mar-2014      22.23   21.48        -0.75\n",
       "Apr-2014      27.63   18.69        -8.94\n",
       "May-2014      53.92   42.85       -11.07\n",
       "Jun-2014      18.40   18.04        -0.36\n",
       "Jul-2014      16.27   13.74        -2.53\n",
       "Aug-2014      15.62   12.72        -2.90\n",
       "Sep-2014      18.58   14.02        -4.56\n",
       "Oct-2014      15.33   13.28        -2.05\n",
       "Nov-2014      14.48   12.03        -2.45\n",
       "Dec-2014      15.70   13.31        -2.39\n",
       "Jan-2015      15.81   12.56        -3.25\n",
       "Feb-2015      13.22   10.93        -2.29\n",
       "Mar-2015      15.22   13.10        -2.12\n",
       "Apr-2015      14.57   11.90        -2.67\n",
       "May-2015      41.44   29.73       -11.71\n",
       "Jun-2015      19.68   18.87        -0.81\n",
       "Jul-2015      18.02   13.90        -4.12\n",
       "Aug-2015      18.24   14.17        -4.07\n",
       "Sep-2015      18.58   14.83        -3.75\n",
       "Oct-2015      17.50   13.79        -3.71\n",
       "Nov-2015      16.77   13.09        -3.68\n",
       "Dec-2015      20.71   15.21        -5.50\n",
       "Jan-2016      19.99   16.07        -3.92\n",
       "Feb-2016      18.11   16.36        -1.75\n",
       "Mar-2016      21.60   16.50        -5.10\n",
       "Apr-2016      43.15   26.44       -16.71\n",
       "May-2016      75.17   64.28       -10.89\n",
       "Jun-2016      26.69   34.73         8.04\n",
       "Jul-2016      17.20   16.34        -0.86\n",
       "Aug-2016      15.77   13.95        -1.82\n",
       "Sep-2016      14.84   12.78        -2.06\n",
       "Oct-2016      15.00   13.26        -1.74\n",
       "Nov-2016      16.88   14.23        -2.65\n",
       "Dec-2016      18.11   16.47        -1.64"
      ]
     },
     "execution_count": 139,
     "metadata": {},
     "output_type": "execute_result"
    }
   ],
   "source": [
    "dat2.to_csv('water_consum_floodplain.csv', encoding = 'utf-8')"
   ]
  },
  {
   "cell_type": "code",
   "execution_count": 44,
   "metadata": {},
   "outputs": [
    {
     "data": {
      "text/html": [
       "\n",
       "<div id=\"altair-viz-8452d086641545b9a2ba6025067417dd\"></div>\n",
       "<script type=\"text/javascript\">\n",
       "  (function(spec, embedOpt){\n",
       "    let outputDiv = document.currentScript.previousElementSibling;\n",
       "    if (outputDiv.id !== \"altair-viz-8452d086641545b9a2ba6025067417dd\") {\n",
       "      outputDiv = document.getElementById(\"altair-viz-8452d086641545b9a2ba6025067417dd\");\n",
       "    }\n",
       "    const paths = {\n",
       "      \"vega\": \"https://cdn.jsdelivr.net/npm//vega@5?noext\",\n",
       "      \"vega-lib\": \"https://cdn.jsdelivr.net/npm//vega-lib?noext\",\n",
       "      \"vega-lite\": \"https://cdn.jsdelivr.net/npm//vega-lite@4.8.1?noext\",\n",
       "      \"vega-embed\": \"https://cdn.jsdelivr.net/npm//vega-embed@6?noext\",\n",
       "    };\n",
       "\n",
       "    function loadScript(lib) {\n",
       "      return new Promise(function(resolve, reject) {\n",
       "        var s = document.createElement('script');\n",
       "        s.src = paths[lib];\n",
       "        s.async = true;\n",
       "        s.onload = () => resolve(paths[lib]);\n",
       "        s.onerror = () => reject(`Error loading script: ${paths[lib]}`);\n",
       "        document.getElementsByTagName(\"head\")[0].appendChild(s);\n",
       "      });\n",
       "    }\n",
       "\n",
       "    function showError(err) {\n",
       "      outputDiv.innerHTML = `<div class=\"error\" style=\"color:red;\">${err}</div>`;\n",
       "      throw err;\n",
       "    }\n",
       "\n",
       "    function displayChart(vegaEmbed) {\n",
       "      vegaEmbed(outputDiv, spec, embedOpt)\n",
       "        .catch(err => showError(`Javascript Error: ${err.message}<br>This usually means there's a typo in your chart specification. See the javascript console for the full traceback.`));\n",
       "    }\n",
       "\n",
       "    if(typeof define === \"function\" && define.amd) {\n",
       "      requirejs.config({paths});\n",
       "      require([\"vega-embed\"], displayChart, err => showError(`Error loading script: ${err.message}`));\n",
       "    } else if (typeof vegaEmbed === \"function\") {\n",
       "      displayChart(vegaEmbed);\n",
       "    } else {\n",
       "      loadScript(\"vega\")\n",
       "        .then(() => loadScript(\"vega-lite\"))\n",
       "        .then(() => loadScript(\"vega-embed\"))\n",
       "        .catch(showError)\n",
       "        .then(() => displayChart(vegaEmbed));\n",
       "    }\n",
       "  })({\"config\": {\"view\": {\"continuousWidth\": 400, \"continuousHeight\": 300}}, \"data\": {\"name\": \"data-298c2310b62750810f8ba0848f300c6c\"}, \"mark\": \"point\", \"encoding\": {\"x\": {\"type\": \"quantitative\", \"field\": \"discharge\"}, \"y\": {\"type\": \"quantitative\", \"field\": \"income\"}}, \"$schema\": \"https://vega.github.io/schema/vega-lite/v4.8.1.json\", \"datasets\": {\"data-298c2310b62750810f8ba0848f300c6c\": [{\"Year\": \"Apr-2013\", \"discharge\": 31.72, \"income\": 27.99, \"wat_balance\": -3.73}, {\"Year\": \"May-2013\", \"discharge\": 62.15, \"income\": 52.76, \"wat_balance\": -9.39}, {\"Year\": \"Jun-2013\", \"discharge\": 37.59, \"income\": 36.03, \"wat_balance\": -1.5600000000000025}, {\"Year\": \"Jul-2013\", \"discharge\": 17.82, \"income\": 16.15, \"wat_balance\": -1.6700000000000017}, {\"Year\": \"Aug-2013\", \"discharge\": 16.05, \"income\": 13.34, \"wat_balance\": -2.710000000000001}, {\"Year\": \"Sep-2013\", \"discharge\": 14.53, \"income\": 12.62, \"wat_balance\": -1.91}, {\"Year\": \"Oct-2013\", \"discharge\": 15.81, \"income\": 13.18, \"wat_balance\": -2.630000000000001}, {\"Year\": \"Nov-2013\", \"discharge\": 18.3, \"income\": 14.41, \"wat_balance\": -3.890000000000001}, {\"Year\": \"Dec-2013\", \"discharge\": 21.6, \"income\": 17.2, \"wat_balance\": -4.400000000000002}, {\"Year\": \"Jan-2014\", \"discharge\": 21.28, \"income\": 16.45, \"wat_balance\": -4.830000000000002}, {\"Year\": \"Feb-2014\", \"discharge\": 19.39, \"income\": 15.92, \"wat_balance\": -3.4700000000000006}, {\"Year\": \"Mar-2014\", \"discharge\": 22.23, \"income\": 21.48, \"wat_balance\": -0.75}, {\"Year\": \"Apr-2014\", \"discharge\": 27.63, \"income\": 18.69, \"wat_balance\": -8.939999999999998}, {\"Year\": \"May-2014\", \"discharge\": 53.92, \"income\": 42.85, \"wat_balance\": -11.07}, {\"Year\": \"Jun-2014\", \"discharge\": 18.4, \"income\": 18.04, \"wat_balance\": -0.3599999999999994}, {\"Year\": \"Jul-2014\", \"discharge\": 16.27, \"income\": 13.74, \"wat_balance\": -2.53}, {\"Year\": \"Aug-2014\", \"discharge\": 15.62, \"income\": 12.72, \"wat_balance\": -2.8999999999999986}, {\"Year\": \"Sep-2014\", \"discharge\": 18.58, \"income\": 14.02, \"wat_balance\": -4.559999999999999}, {\"Year\": \"Oct-2014\", \"discharge\": 15.33, \"income\": 13.28, \"wat_balance\": -2.0500000000000007}, {\"Year\": \"Nov-2014\", \"discharge\": 14.48, \"income\": 12.03, \"wat_balance\": -2.450000000000001}, {\"Year\": \"Dec-2014\", \"discharge\": 15.7, \"income\": 13.31, \"wat_balance\": -2.389999999999999}, {\"Year\": \"Jan-2015\", \"discharge\": 15.81, \"income\": 12.56, \"wat_balance\": -3.25}, {\"Year\": \"Feb-2015\", \"discharge\": 13.22, \"income\": 10.93, \"wat_balance\": -2.290000000000001}, {\"Year\": \"Mar-2015\", \"discharge\": 15.22, \"income\": 13.1, \"wat_balance\": -2.120000000000001}, {\"Year\": \"Apr-2015\", \"discharge\": 14.57, \"income\": 11.9, \"wat_balance\": -2.67}, {\"Year\": \"May-2015\", \"discharge\": 41.44, \"income\": 29.73, \"wat_balance\": -11.709999999999996}, {\"Year\": \"Jun-2015\", \"discharge\": 19.68, \"income\": 18.87, \"wat_balance\": -0.8099999999999987}, {\"Year\": \"Jul-2015\", \"discharge\": 18.02, \"income\": 13.9, \"wat_balance\": -4.119999999999999}, {\"Year\": \"Aug-2015\", \"discharge\": 18.24, \"income\": 14.17, \"wat_balance\": -4.069999999999999}, {\"Year\": \"Sep-2015\", \"discharge\": 18.58, \"income\": 14.83, \"wat_balance\": -3.7499999999999982}, {\"Year\": \"Oct-2015\", \"discharge\": 17.5, \"income\": 13.79, \"wat_balance\": -3.710000000000001}, {\"Year\": \"Nov-2015\", \"discharge\": 16.77, \"income\": 13.09, \"wat_balance\": -3.68}, {\"Year\": \"Dec-2015\", \"discharge\": 20.71, \"income\": 15.21, \"wat_balance\": -5.5}, {\"Year\": \"Jan-2016\", \"discharge\": 19.99, \"income\": 16.07, \"wat_balance\": -3.919999999999998}, {\"Year\": \"Feb-2016\", \"discharge\": 18.11, \"income\": 16.36, \"wat_balance\": -1.75}, {\"Year\": \"Mar-2016\", \"discharge\": 21.6, \"income\": 16.5, \"wat_balance\": -5.100000000000001}, {\"Year\": \"Apr-2016\", \"discharge\": 43.15, \"income\": 26.44, \"wat_balance\": -16.709999999999997}, {\"Year\": \"May-2016\", \"discharge\": 75.17, \"income\": 64.28, \"wat_balance\": -10.89}, {\"Year\": \"Jun-2016\", \"discharge\": 26.69, \"income\": 34.73, \"wat_balance\": 8.039999999999996}, {\"Year\": \"Jul-2016\", \"discharge\": 17.2, \"income\": 16.34, \"wat_balance\": -0.8599999999999994}, {\"Year\": \"Aug-2016\", \"discharge\": 15.77, \"income\": 13.95, \"wat_balance\": -1.8200000000000005}, {\"Year\": \"Sep-2016\", \"discharge\": 14.84, \"income\": 12.78, \"wat_balance\": -2.0600000000000005}, {\"Year\": \"Oct-2016\", \"discharge\": 15.0, \"income\": 13.26, \"wat_balance\": -1.7400000000000002}, {\"Year\": \"Nov-2016\", \"discharge\": 16.88, \"income\": 14.23, \"wat_balance\": -2.6499999999999986}, {\"Year\": \"Dec-2016\", \"discharge\": 18.11, \"income\": 16.47, \"wat_balance\": -1.6400000000000006}]}}, {\"mode\": \"vega-lite\"});\n",
       "</script>"
      ],
      "text/plain": [
       "alt.Chart(...)"
      ]
     },
     "execution_count": 44,
     "metadata": {},
     "output_type": "execute_result"
    }
   ],
   "source": [
    "alt.Chart(dat2).mark_point().encode(\n",
    "    x='discharge',\n",
    "    y='income')\n"
   ]
  },
  {
   "cell_type": "code",
   "execution_count": 61,
   "metadata": {},
   "outputs": [
    {
     "name": "stderr",
     "output_type": "stream",
     "text": [
      "'c' argument looks like a single numeric RGB or RGBA sequence, which should be avoided as value-mapping will have precedence in case its length matches with 'x' & 'y'.  Please use a 2-D array with a single row if you really want to specify the same RGB or RGBA value for all points.\n"
     ]
    },
    {
     "data": {
      "text/plain": [
       "<matplotlib.axes._subplots.AxesSubplot at 0x522eab0>"
      ]
     },
     "execution_count": 61,
     "metadata": {},
     "output_type": "execute_result"
    },
    {
     "data": {
      "text/plain": [
       "<Figure size 1440x720 with 0 Axes>"
      ]
     },
     "metadata": {},
     "output_type": "display_data"
    },
    {
     "data": {
      "image/png": "[encoded data removed]",
      "text/plain": [
       "<Figure size 432x288 with 1 Axes>"
      ]
     },
     "metadata": {},
     "output_type": "display_data"
    }
   ],
   "source": [
    "plt.figure(figsize=(20,10))\n",
    "dat2.plot(kind='scatter', x='wat_balance', y='income')"
   ]
  },
  {
   "cell_type": "code",
   "execution_count": 136,
   "metadata": {},
   "outputs": [
    {
     "data": {
      "text/plain": [
       "<matplotlib.axes._subplots.AxesSubplot at 0xa91f5f0>"
      ]
     },
     "execution_count": 136,
     "metadata": {},
     "output_type": "execute_result"
    },
    {
     "data": {
      "image/png": "[encoded data removed]",
      "text/plain": [
       "<Figure size 432x288 with 1 Axes>"
      ]
     },
     "metadata": {},
     "output_type": "display_data"
    }
   ],
   "source": [
    "#plt.figure(figsize=(20,10))\n",
    "dat2.plot()"
   ]
  },
  {
   "cell_type": "code",
   "execution_count": 45,
   "metadata": {},
   "outputs": [],
   "source": [
    "sal = pd.read_csv('C:/Users/riznet/1volzhsk.csv', encoding = 'utf-8', sep=';')"
   ]
  },
  {
   "cell_type": "code",
   "execution_count": 46,
   "metadata": {},
   "outputs": [],
   "source": [
    "sal['date']  = pd.to_datetime(sal.date, errors='coerce', format='%Y-%m-%d')\n",
    "sal.index = sal.date"
   ]
  },
  {
   "cell_type": "code",
   "execution_count": 47,
   "metadata": {},
   "outputs": [],
   "source": [
    "s = sal.resample('M', on='date')['discharge'].sum()\n",
    "df1=pd.DataFrame(s)"
   ]
  },
  {
   "cell_type": "code",
   "execution_count": 55,
   "metadata": {},
   "outputs": [],
   "source": [
    "df2= pd.DataFrame(df1.loc['2017-01-01':'2021-06-20'])\n",
    "df2.reset_index(inplace=True)"
   ]
  },
  {
   "cell_type": "code",
   "execution_count": 56,
   "metadata": {},
   "outputs": [],
   "source": [
    "df2['dichargeR'] = round(df2.discharge/10000,2)"
   ]
  },
  {
   "cell_type": "code",
   "execution_count": 58,
   "metadata": {},
   "outputs": [],
   "source": [
    "df2.drop('discharge', axis=1, inplace=True)"
   ]
  },
  {
   "cell_type": "code",
   "execution_count": 59,
   "metadata": {},
   "outputs": [],
   "source": [
    "df2.to_csv('volzhsk_discharge_till2021.csv',encoding = 'utf-8')"
   ]
  },
  {
   "cell_type": "code",
   "execution_count": null,
   "metadata": {},
   "outputs": [],
   "source": []
  }
 ],
 "metadata": {
  "kernelspec": {
   "display_name": "Python 3",
   "language": "python",
   "name": "python3"
  },
  "language_info": {
   "codemirror_mode": {
    "name": "ipython",
    "version": 3
   },
   "file_extension": ".py",
   "mimetype": "text/x-python",
   "name": "python",
   "nbconvert_exporter": "python",
   "pygments_lexer": "ipython3",
   "version": "3.7.4"
  }
 },
 "nbformat": 4,
 "nbformat_minor": 2
}
